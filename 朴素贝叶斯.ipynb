{
 "cells": [
  {
   "cell_type": "code",
   "execution_count": 1,
   "id": "1e44db66",
   "metadata": {
    "scrolled": false
   },
   "outputs": [],
   "source": [
    "import pandas as pd\n",
    "import numpy as np\n",
    "import matplotlib as mpl\n",
    "from sklearn.metrics import roc_curve, auc\n",
    "from sklearn.model_selection import cross_val_score\n",
    "from sklearn.preprocessing import LabelEncoder\n",
    "from sklearn.ensemble import RandomForestClassifier as RF\n",
    "from sklearn.linear_model import LogisticRegression as LR\n",
    "from sklearn.model_selection import train_test_split  # 随机划分数据集\n",
    "import matplotlib.pyplot as plt\n",
    "from warnings import simplefilter\n",
    "\n",
    "simplefilter(action='ignore') #忽略警告"
   ]
  },
  {
   "cell_type": "code",
   "execution_count": 2,
   "id": "6ba8d77f",
   "metadata": {},
   "outputs": [
    {
     "name": "stdout",
     "output_type": "stream",
     "text": [
      "初始数据如下：\n"
     ]
    }
   ],
   "source": [
    "#读取数据\n",
    "\n",
    "df = pd.read_csv('data_2.csv')  # 读入csv文件中的特征\n",
    "\n",
    "print(\"初始数据如下：\")\n",
    "# pd.DataFrame(df)"
   ]
  },
  {
   "cell_type": "code",
   "execution_count": 3,
   "id": "65dd9575",
   "metadata": {
    "scrolled": false
   },
   "outputs": [
    {
     "name": "stdout",
     "output_type": "stream",
     "text": [
      "提取出标签后的特征如下：\n"
     ]
    },
    {
     "data": {
      "text/html": [
       "<div>\n",
       "<style scoped>\n",
       "    .dataframe tbody tr th:only-of-type {\n",
       "        vertical-align: middle;\n",
       "    }\n",
       "\n",
       "    .dataframe tbody tr th {\n",
       "        vertical-align: top;\n",
       "    }\n",
       "\n",
       "    .dataframe thead th {\n",
       "        text-align: right;\n",
       "    }\n",
       "</style>\n",
       "<table border=\"1\" class=\"dataframe\">\n",
       "  <thead>\n",
       "    <tr style=\"text-align: right;\">\n",
       "      <th></th>\n",
       "      <th>center_std</th>\n",
       "      <th>eye_count_radio</th>\n",
       "      <th>MOA_count_radio</th>\n",
       "    </tr>\n",
       "  </thead>\n",
       "  <tbody>\n",
       "    <tr>\n",
       "      <th>0</th>\n",
       "      <td>3.491798</td>\n",
       "      <td>0.000000</td>\n",
       "      <td>0.157143</td>\n",
       "    </tr>\n",
       "    <tr>\n",
       "      <th>1</th>\n",
       "      <td>3.288943</td>\n",
       "      <td>0.000000</td>\n",
       "      <td>0.400000</td>\n",
       "    </tr>\n",
       "    <tr>\n",
       "      <th>2</th>\n",
       "      <td>6.734862</td>\n",
       "      <td>0.071429</td>\n",
       "      <td>0.042857</td>\n",
       "    </tr>\n",
       "    <tr>\n",
       "      <th>3</th>\n",
       "      <td>4.074435</td>\n",
       "      <td>0.000000</td>\n",
       "      <td>0.000000</td>\n",
       "    </tr>\n",
       "    <tr>\n",
       "      <th>4</th>\n",
       "      <td>8.823253</td>\n",
       "      <td>0.000000</td>\n",
       "      <td>0.171429</td>\n",
       "    </tr>\n",
       "    <tr>\n",
       "      <th>...</th>\n",
       "      <td>...</td>\n",
       "      <td>...</td>\n",
       "      <td>...</td>\n",
       "    </tr>\n",
       "    <tr>\n",
       "      <th>416</th>\n",
       "      <td>3.806654</td>\n",
       "      <td>0.000000</td>\n",
       "      <td>0.000000</td>\n",
       "    </tr>\n",
       "    <tr>\n",
       "      <th>417</th>\n",
       "      <td>5.007769</td>\n",
       "      <td>0.000000</td>\n",
       "      <td>0.000000</td>\n",
       "    </tr>\n",
       "    <tr>\n",
       "      <th>418</th>\n",
       "      <td>2.483579</td>\n",
       "      <td>0.000000</td>\n",
       "      <td>0.057143</td>\n",
       "    </tr>\n",
       "    <tr>\n",
       "      <th>419</th>\n",
       "      <td>3.409949</td>\n",
       "      <td>0.000000</td>\n",
       "      <td>0.171429</td>\n",
       "    </tr>\n",
       "    <tr>\n",
       "      <th>420</th>\n",
       "      <td>3.907841</td>\n",
       "      <td>0.000000</td>\n",
       "      <td>0.185714</td>\n",
       "    </tr>\n",
       "  </tbody>\n",
       "</table>\n",
       "<p>421 rows × 3 columns</p>\n",
       "</div>"
      ],
      "text/plain": [
       "     center_std  eye_count_radio  MOA_count_radio\n",
       "0      3.491798         0.000000         0.157143\n",
       "1      3.288943         0.000000         0.400000\n",
       "2      6.734862         0.071429         0.042857\n",
       "3      4.074435         0.000000         0.000000\n",
       "4      8.823253         0.000000         0.171429\n",
       "..          ...              ...              ...\n",
       "416    3.806654         0.000000         0.000000\n",
       "417    5.007769         0.000000         0.000000\n",
       "418    2.483579         0.000000         0.057143\n",
       "419    3.409949         0.000000         0.171429\n",
       "420    3.907841         0.000000         0.185714\n",
       "\n",
       "[421 rows x 3 columns]"
      ]
     },
     "execution_count": 3,
     "metadata": {},
     "output_type": "execute_result"
    }
   ],
   "source": [
    "#分离特征及标签\n",
    "\n",
    "X = df.drop(['level_label','file_index'], axis=1)  # 移除fatigue_result列,其它列都是特征\n",
    "Y = df['level_label']  # 提取出标签页\n",
    "\n",
    "print(\"提取出标签后的特征如下：\")\n",
    "pd.DataFrame(X)"
   ]
  },
  {
   "cell_type": "code",
   "execution_count": 4,
   "id": "b86bd351",
   "metadata": {},
   "outputs": [],
   "source": [
    "# # 参数优化过程\n",
    "# model_range=range(5,20)\n",
    "# model_score = []\n",
    "# for i in model_range:\n",
    "#     rf = RF(n_estimators=3,random_state=10,max_depth=1)\n",
    "#     # loss=-cross_val_score(rf,x_test,y_test,cv=5)\n",
    "#     # model_score.append(loss.mean())\n",
    "#     scores = cross_val_score(rf, X, Y, cv=5)\n",
    "#     model_score.append(scores.mean())\n",
    "# plt.plot(model_range,model_score,label = 'test_score')\n",
    "# plt.xlabel('random_state')\n",
    "# plt.ylabel('Accuracy')\n",
    "# plt.show()\n",
    "\n",
    "\n",
    "#没有进行PCA时的模型表现\n",
    "x_train, x_test, y_train, y_test = train_test_split(X, Y,random_state = 1,test_size=0.20)"
   ]
  },
  {
   "cell_type": "code",
   "execution_count": 5,
   "id": "689a9a93",
   "metadata": {},
   "outputs": [
    {
     "name": "stdout",
     "output_type": "stream",
     "text": [
      "使用GaussianNB分类器构建的朴素贝叶斯准确率为0.4235294117647059\n"
     ]
    }
   ],
   "source": [
    "# '''使用GaussianNB分类器构建朴素贝叶斯模型'''\n",
    "\n",
    "from sklearn.naive_bayes import GaussianNB \n",
    "\n",
    "gaussianNB=GaussianNB()  \n",
    "gaussianNB.fit(x_train, y_train) \n",
    "\n",
    "print(f'使用GaussianNB分类器构建的朴素贝叶斯准确率为{gaussianNB.score(x_test, y_test)}')\n"
   ]
  },
  {
   "cell_type": "code",
   "execution_count": 6,
   "id": "913d6096",
   "metadata": {},
   "outputs": [
    {
     "name": "stdout",
     "output_type": "stream",
     "text": [
      "GaussianNB, correct prediction num: 36, accuracy: 42.35%\n"
     ]
    }
   ],
   "source": [
    "# 评估本模型在整个数据集上的表现  \n",
    "dataset_predict_y=gaussianNB.predict(x_test)  \n",
    "correct_predicts=(dataset_predict_y==y_test).sum()  \n",
    "accuracy=100*correct_predicts/y_test.shape[0]  \n",
    "print('GaussianNB, correct prediction num: {}, accuracy: {:.2f}%'  \n",
    "      .format(correct_predicts,accuracy))  "
   ]
  },
  {
   "cell_type": "code",
   "execution_count": 7,
   "id": "6d9a257a",
   "metadata": {},
   "outputs": [
    {
     "data": {
      "text/plain": [
       "[<matplotlib.lines.Line2D at 0x2c98044a470>]"
      ]
     },
     "execution_count": 7,
     "metadata": {},
     "output_type": "execute_result"
    },
    {
     "data": {
      "image/png": "[encoded data removed]",
      "text/plain": [
       "<Figure size 432x288 with 1 Axes>"
      ]
     },
     "metadata": {
      "needs_background": "light"
     },
     "output_type": "display_data"
    }
   ],
   "source": [
    "from sklearn.metrics import confusion_matrix\n",
    "\n",
    "recall_gaussianNB = []\n",
    "FPR_gaussianNB = []\n",
    "y_true = y_test\n",
    "prob_gaussianNB = gaussianNB.predict_proba(x_test)\n",
    "probrange_gaussianNB = np.linspace(prob_gaussianNB[:, 1].min(), prob_gaussianNB[:, 1].max(), 50)\n",
    "for i in probrange_gaussianNB:\n",
    "    y_pre = []\n",
    "    for k in range(prob_gaussianNB.shape[0]):\n",
    "        if prob_gaussianNB[k, 1] > i:\n",
    "            y_pre.append(1)\n",
    "        else:\n",
    "            y_pre.append(0)\n",
    "    C = confusion_matrix(y_true, y_pre)\n",
    "    recall_gaussianNB.append(C[0, 0] / C[0, :].sum())\n",
    "    FPR_gaussianNB.append(C[1, 0] / C[1, :].sum())\n",
    "\n",
    "area_gaussianNB = \"AUC area of GaussianNB is \" + str(round(auc(FPR_gaussianNB, recall_gaussianNB), 3))\n",
    "plt.plot(FPR_gaussianNB, recall_gaussianNB, c='darkblue',label=area_gaussianNB)"
   ]
  },
  {
   "cell_type": "code",
   "execution_count": 8,
   "id": "14510d27",
   "metadata": {},
   "outputs": [
    {
     "name": "stdout",
     "output_type": "stream",
     "text": [
      "\n",
      "GaussianNB分类器构建的朴素贝叶斯\n",
      "准确率为0.4235294117647059\n",
      "AUC面积为0.75625\n",
      "宏F1为0.31121416809490204\n",
      "微F1为0.4235294117647059\n",
      "宏查准率为0.4193302891933029\n",
      "微查准率为0.4235294117647059\n",
      "宏查全率为0.36519795657726695\n",
      "微查全率为0.4235294117647059\n"
     ]
    }
   ],
   "source": [
    "#模型指标\n",
    "from sklearn.metrics import roc_curve\n",
    "from sklearn.metrics import f1_score\n",
    "from sklearn.metrics import precision_score, recall_score\n",
    "\n",
    "print('\\nGaussianNB分类器构建的朴素贝叶斯')\n",
    "print(f'准确率为{gaussianNB.score(x_test, y_test)}')\n",
    "print(f'AUC面积为{round(auc(FPR_gaussianNB, recall_gaussianNB), 6)}')\n",
    "y_predict = gaussianNB.predict(x_test)\n",
    "print(f'宏F1为{f1_score(y_test, y_predict,average=\"macro\")}')\n",
    "print(f'微F1为{f1_score(y_test, y_predict,average=\"micro\")}')\n",
    "print(f'宏查准率为{precision_score(y_test, y_predict,average=\"macro\")}')\n",
    "print(f'微查准率为{precision_score(y_test, y_predict,average=\"micro\")}')\n",
    "print(f'宏查全率为{recall_score(y_test, y_predict,average=\"macro\")}')\n",
    "print(f'微查全率为{recall_score(y_test, y_predict,average=\"micro\")}')\n"
   ]
  },
  {
   "cell_type": "code",
   "execution_count": 9,
   "id": "d268e632",
   "metadata": {},
   "outputs": [
    {
     "ename": "NameError",
     "evalue": "name 'multinomialNB' is not defined",
     "output_type": "error",
     "traceback": [
      "\u001b[1;31m---------------------------------------------------------------------------\u001b[0m",
      "\u001b[1;31mNameError\u001b[0m                                 Traceback (most recent call last)",
      "\u001b[1;32mC:\\temp/ipykernel_4628/1214930177.py\u001b[0m in \u001b[0;36m<module>\u001b[1;34m\u001b[0m\n\u001b[0;32m      6\u001b[0m \u001b[0mbernoulliNB\u001b[0m\u001b[1;33m.\u001b[0m\u001b[0mfit\u001b[0m\u001b[1;33m(\u001b[0m\u001b[0mx_train\u001b[0m\u001b[1;33m,\u001b[0m \u001b[0my_train\u001b[0m\u001b[1;33m)\u001b[0m\u001b[1;33m\u001b[0m\u001b[1;33m\u001b[0m\u001b[0m\n\u001b[0;32m      7\u001b[0m \u001b[1;33m\u001b[0m\u001b[0m\n\u001b[1;32m----> 8\u001b[1;33m \u001b[0mprint\u001b[0m\u001b[1;33m(\u001b[0m\u001b[1;34mf'使用BernoulliNB分类器构建的朴素贝叶斯准确率为{multinomialNB.score(x_test, y_test)}'\u001b[0m\u001b[1;33m)\u001b[0m\u001b[1;33m\u001b[0m\u001b[1;33m\u001b[0m\u001b[0m\n\u001b[0m",
      "\u001b[1;31mNameError\u001b[0m: name 'multinomialNB' is not defined"
     ]
    }
   ],
   "source": [
    "# '''使用BernoulliNB分类器构建朴素贝叶斯模型'''\n",
    "\n",
    "from sklearn.naive_bayes import BernoulliNB\n",
    "\n",
    "bernoulliNB=BernoulliNB()  \n",
    "bernoulliNB.fit(x_train, y_train) \n",
    "\n",
    "print(f'使用BernoulliNB分类器构建的朴素贝叶斯准确率为{multinomialNB.score(x_test, y_test)}')\n"
   ]
  },
  {
   "cell_type": "code",
   "execution_count": 10,
   "id": "78fc5cd8",
   "metadata": {},
   "outputs": [
    {
     "data": {
      "text/plain": [
       "[<matplotlib.lines.Line2D at 0x2c982646780>]"
      ]
     },
     "execution_count": 10,
     "metadata": {},
     "output_type": "execute_result"
    },
    {
     "data": {
      "image/png": "[encoded data removed]",
      "text/plain": [
       "<Figure size 432x288 with 1 Axes>"
      ]
     },
     "metadata": {
      "needs_background": "light"
     },
     "output_type": "display_data"
    }
   ],
   "source": [
    "recall_bernoulliNB = []\n",
    "FPR_bernoulliNB = []\n",
    "y_true = y_test\n",
    "prob_bernoulliNB = bernoulliNB.predict_proba(x_test)\n",
    "probrange_bernoulliNB = np.linspace(prob_bernoulliNB[:, 1].min(), prob_bernoulliNB[:, 1].max(), 50)\n",
    "for i in probrange_bernoulliNB:\n",
    "    y_pre = []\n",
    "    for k in range(prob_bernoulliNB.shape[0]):\n",
    "        if prob_bernoulliNB[k, 1] > i:\n",
    "            y_pre.append(1)\n",
    "        else:\n",
    "            y_pre.append(0)\n",
    "    C = confusion_matrix(y_true, y_pre)\n",
    "    recall_bernoulliNB.append(C[0, 0] / C[0, :].sum())\n",
    "    FPR_bernoulliNB.append(C[1, 0] / C[1, :].sum())\n",
    "\n",
    "area_bernoulliNB = \"AUC area of BernoulliNB is \" + str(round(auc(FPR_bernoulliNB, recall_bernoulliNB), 3))\n",
    "plt.plot(FPR_bernoulliNB, recall_bernoulliNB, c='darkblue',label=area_bernoulliNB)"
   ]
  },
  {
   "cell_type": "code",
   "execution_count": 11,
   "id": "88af5006",
   "metadata": {},
   "outputs": [
    {
     "name": "stdout",
     "output_type": "stream",
     "text": [
      "\n",
      "BernoulliNB分类器构建的朴素贝叶斯\n",
      "准确率为0.4235294117647059\n",
      "AUC面积为0.820833\n",
      "宏F1为0.19834710743801653\n",
      "微F1为0.4235294117647059\n",
      "宏查准率为0.1411764705882353\n",
      "微查准率为0.4235294117647059\n",
      "宏查全率为0.3333333333333333\n",
      "微查全率为0.4235294117647059\n"
     ]
    }
   ],
   "source": [
    "print('\\nBernoulliNB分类器构建的朴素贝叶斯')\n",
    "print(f'准确率为{bernoulliNB.score(x_test, y_test)}')\n",
    "print(f'AUC面积为{round(auc(FPR_bernoulliNB, recall_bernoulliNB), 6)}')\n",
    "y_predict = bernoulliNB.predict(x_test)\n",
    "print(f'宏F1为{f1_score(y_test, y_predict,average=\"macro\")}')\n",
    "print(f'微F1为{f1_score(y_test, y_predict,average=\"micro\")}')\n",
    "print(f'宏查准率为{precision_score(y_test, y_predict,average=\"macro\")}')\n",
    "print(f'微查准率为{precision_score(y_test, y_predict,average=\"micro\")}')\n",
    "print(f'宏查全率为{recall_score(y_test, y_predict,average=\"macro\")}')\n",
    "print(f'微查全率为{recall_score(y_test, y_predict,average=\"micro\")}')"
   ]
  },
  {
   "cell_type": "code",
   "execution_count": null,
   "id": "7085eab2",
   "metadata": {},
   "outputs": [],
   "source": []
  },
  {
   "cell_type": "code",
   "execution_count": null,
   "id": "9bb9b978",
   "metadata": {},
   "outputs": [],
   "source": []
  },
  {
   "cell_type": "code",
   "execution_count": null,
   "id": "bdb30280",
   "metadata": {},
   "outputs": [],
   "source": []
  }
 ],
 "metadata": {
  "kernelspec": {
   "display_name": "Python 3 (ipykernel)",
   "language": "python",
   "name": "python3"
  },
  "language_info": {
   "codemirror_mode": {
    "name": "ipython",
    "version": 3
   },
   "file_extension": ".py",
   "mimetype": "text/x-python",
   "name": "python",
   "nbconvert_exporter": "python",
   "pygments_lexer": "ipython3",
   "version": "3.7.3"
  }
 },
 "nbformat": 4,
 "nbformat_minor": 5
}
