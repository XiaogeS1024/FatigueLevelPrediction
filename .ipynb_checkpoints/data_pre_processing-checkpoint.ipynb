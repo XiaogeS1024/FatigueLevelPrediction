{
 "cells": [
  {
   "cell_type": "code",
   "execution_count": 1,
   "id": "1e44db66",
   "metadata": {
    "scrolled": false
   },
   "outputs": [],
   "source": [
    "import pandas as pd\n",
    "import numpy as np\n",
    "from sklearn.metrics import roc_curve, auc\n",
    "from sklearn.model_selection import cross_val_score\n",
    "from sklearn.preprocessing import LabelEncoder\n",
    "from sklearn.ensemble import RandomForestClassifier as RF\n",
    "from sklearn.linear_model import LogisticRegression as LR\n",
    "from sklearn.model_selection import train_test_split  # 随机划分数据集\n",
    "import matplotlib.pyplot as plt\n",
    "from warnings import simplefilter\n",
    "\n",
    "simplefilter(action='ignore') #忽略警告"
   ]
  },
  {
   "cell_type": "code",
   "execution_count": 2,
   "id": "6ba8d77f",
   "metadata": {},
   "outputs": [
    {
     "name": "stdout",
     "output_type": "stream",
     "text": [
      "<class 'pandas.core.frame.DataFrame'>\n",
      "RangeIndex: 4217 entries, 0 to 4216\n",
      "Data columns (total 4 columns):\n",
      " #   Column  Non-Null Count  Dtype  \n",
      "---  ------  --------------  -----  \n",
      " 0   id      4216 non-null   float64\n",
      " 1   frame   4217 non-null   object \n",
      " 2   x       4217 non-null   object \n",
      " 3   y       4217 non-null   object \n",
      "dtypes: float64(1), object(3)\n",
      "memory usage: 131.9+ KB\n"
     ]
    }
   ],
   "source": [
    "#读取数据\n",
    "\n",
    "data = pd.read_csv('data/level_0/level_0 (1).csv',encoding = 'gb2312',names=['id', 'frame', 'x', 'y'])  # 读入csv文件中的特征\n",
    "\n",
    "data.info()#输出基本信息"
   ]
  },
  {
   "cell_type": "code",
   "execution_count": 3,
   "id": "65dd9575",
   "metadata": {
    "scrolled": false
   },
   "outputs": [
    {
     "data": {
      "text/html": [
       "<div>\n",
       "<style scoped>\n",
       "    .dataframe tbody tr th:only-of-type {\n",
       "        vertical-align: middle;\n",
       "    }\n",
       "\n",
       "    .dataframe tbody tr th {\n",
       "        vertical-align: top;\n",
       "    }\n",
       "\n",
       "    .dataframe thead th {\n",
       "        text-align: right;\n",
       "    }\n",
       "</style>\n",
       "<table border=\"1\" class=\"dataframe\">\n",
       "  <thead>\n",
       "    <tr style=\"text-align: right;\">\n",
       "      <th></th>\n",
       "      <th>id</th>\n",
       "      <th>frame</th>\n",
       "      <th>x</th>\n",
       "      <th>y</th>\n",
       "    </tr>\n",
       "  </thead>\n",
       "  <tbody>\n",
       "    <tr>\n",
       "      <th>0</th>\n",
       "      <td>NaN</td>\n",
       "      <td>frame</td>\n",
       "      <td>x</td>\n",
       "      <td>y</td>\n",
       "    </tr>\n",
       "    <tr>\n",
       "      <th>1</th>\n",
       "      <td>0.0</td>\n",
       "      <td>1</td>\n",
       "      <td>234</td>\n",
       "      <td>207</td>\n",
       "    </tr>\n",
       "    <tr>\n",
       "      <th>2</th>\n",
       "      <td>1.0</td>\n",
       "      <td>1</td>\n",
       "      <td>232</td>\n",
       "      <td>219</td>\n",
       "    </tr>\n",
       "    <tr>\n",
       "      <th>3</th>\n",
       "      <td>2.0</td>\n",
       "      <td>1</td>\n",
       "      <td>232</td>\n",
       "      <td>230</td>\n",
       "    </tr>\n",
       "    <tr>\n",
       "      <th>4</th>\n",
       "      <td>3.0</td>\n",
       "      <td>1</td>\n",
       "      <td>234</td>\n",
       "      <td>242</td>\n",
       "    </tr>\n",
       "    <tr>\n",
       "      <th>...</th>\n",
       "      <td>...</td>\n",
       "      <td>...</td>\n",
       "      <td>...</td>\n",
       "      <td>...</td>\n",
       "    </tr>\n",
       "    <tr>\n",
       "      <th>4212</th>\n",
       "      <td>63.0</td>\n",
       "      <td>62</td>\n",
       "      <td>254</td>\n",
       "      <td>235</td>\n",
       "    </tr>\n",
       "    <tr>\n",
       "      <th>4213</th>\n",
       "      <td>64.0</td>\n",
       "      <td>62</td>\n",
       "      <td>266</td>\n",
       "      <td>234</td>\n",
       "    </tr>\n",
       "    <tr>\n",
       "      <th>4214</th>\n",
       "      <td>65.0</td>\n",
       "      <td>62</td>\n",
       "      <td>256</td>\n",
       "      <td>236</td>\n",
       "    </tr>\n",
       "    <tr>\n",
       "      <th>4215</th>\n",
       "      <td>66.0</td>\n",
       "      <td>62</td>\n",
       "      <td>253</td>\n",
       "      <td>237</td>\n",
       "    </tr>\n",
       "    <tr>\n",
       "      <th>4216</th>\n",
       "      <td>67.0</td>\n",
       "      <td>62</td>\n",
       "      <td>250</td>\n",
       "      <td>237</td>\n",
       "    </tr>\n",
       "  </tbody>\n",
       "</table>\n",
       "<p>4217 rows × 4 columns</p>\n",
       "</div>"
      ],
      "text/plain": [
       "        id  frame    x    y\n",
       "0      NaN  frame    x    y\n",
       "1      0.0      1  234  207\n",
       "2      1.0      1  232  219\n",
       "3      2.0      1  232  230\n",
       "4      3.0      1  234  242\n",
       "...    ...    ...  ...  ...\n",
       "4212  63.0     62  254  235\n",
       "4213  64.0     62  266  234\n",
       "4214  65.0     62  256  236\n",
       "4215  66.0     62  253  237\n",
       "4216  67.0     62  250  237\n",
       "\n",
       "[4217 rows x 4 columns]"
      ]
     },
     "execution_count": 3,
     "metadata": {},
     "output_type": "execute_result"
    }
   ],
   "source": [
    "# pd.set_option('display.max_columns', None) #显示所有列\n",
    "# pd.set_option('display.max_rows', None)  #显示所有行\n",
    "pd.DataFrame(data)"
   ]
  },
  {
   "cell_type": "code",
   "execution_count": 4,
   "id": "e6a49749",
   "metadata": {},
   "outputs": [
    {
     "data": {
      "text/plain": [
       "id       1\n",
       "frame    0\n",
       "x        0\n",
       "y        0\n",
       "dtype: int64"
      ]
     },
     "execution_count": 4,
     "metadata": {},
     "output_type": "execute_result"
    }
   ],
   "source": [
    "#判断缺失值\n",
    "(data.isnull()).sum()#判断是否有缺失值"
   ]
  },
  {
   "cell_type": "code",
   "execution_count": 5,
   "id": "1ddc3a72",
   "metadata": {},
   "outputs": [
    {
     "name": "stdout",
     "output_type": "stream",
     "text": [
      "count     4217\n",
      "unique     101\n",
      "top        260\n",
      "freq       138\n",
      "Name: x, dtype: object\n"
     ]
    },
    {
     "data": {
      "text/plain": [
       "<AxesSubplot:>"
      ]
     },
     "execution_count": 5,
     "metadata": {},
     "output_type": "execute_result"
    },
    {
     "data": {
      "image/png": "[encoded data removed]",
      "text/plain": [
       "<Figure size 432x288 with 1 Axes>"
      ]
     },
     "metadata": {
      "needs_background": "light"
     },
     "output_type": "display_data"
    }
   ],
   "source": [
    "#观察x的数据分布，发现不存在十分异常的数据\n",
    "data_x = data.sort_values('x')\n",
    "print(data_x['x'].describe())\n",
    "data_x['x'].hist()"
   ]
  },
  {
   "cell_type": "code",
   "execution_count": 6,
   "id": "a0890ca0",
   "metadata": {},
   "outputs": [
    {
     "name": "stdout",
     "output_type": "stream",
     "text": [
      "count     4217\n",
      "unique     119\n",
      "top        197\n",
      "freq       101\n",
      "Name: y, dtype: object\n"
     ]
    },
    {
     "data": {
      "text/plain": [
       "<AxesSubplot:>"
      ]
     },
     "execution_count": 6,
     "metadata": {},
     "output_type": "execute_result"
    },
    {
     "data": {
      "image/png": "[encoded data removed]",
      "text/plain": [
       "<Figure size 432x288 with 1 Axes>"
      ]
     },
     "metadata": {
      "needs_background": "light"
     },
     "output_type": "display_data"
    }
   ],
   "source": [
    "#观察pIC50的数据分布，发现不存在十分异常的数据\n",
    "data_y = data.sort_values('y')\n",
    "print(data_y['y'].describe())\n",
    "data_y['y'].hist()"
   ]
  },
  {
   "cell_type": "code",
   "execution_count": 7,
   "id": "bf301951",
   "metadata": {},
   "outputs": [],
   "source": [
    "#眼部\n",
    "#求最大值\n",
    "#定义几个要用的变量\n",
    "left_max=0;\n",
    "right_max=0;\n",
    "length=data.shape[0];\n",
    "for i in range(0,length-1):\n",
    "    i=i+1;\n",
    "    id=data.iloc[i][\"id\"];\n",
    "    if id == 39.0 :\n",
    "        x39=float(data.iloc[i][\"x\"])\n",
    "        x36=float(data.iloc[i-3][\"x\"])\n",
    "        x45=float(data.iloc[i+6][\"x\"])\n",
    "        x42=float(data.iloc[i+3][\"x\"])\n",
    "        w_left_sub=x39-x36;#左眼的宽度差值\n",
    "        w_right_sub=x45-x42;#右眼的宽度差值\n",
    "        y38=float(data.iloc[i-1][\"y\"])\n",
    "        y40=float(data.iloc[i+1][\"y\"])\n",
    "        y43=float(data.iloc[i+4][\"y\"])\n",
    "        y47=float(data.iloc[i+8][\"y\"])\n",
    "        h_left_sub=y40-y38;#左眼的高度差值\n",
    "        h_right_sub=y47-y43;#右眼的高度差值\n",
    "        \n",
    "        #求最大值\n",
    "        left_max_temp=w_left_sub*h_left_sub;\n",
    "        right_max_temp=w_right_sub*h_right_sub;\n",
    "        if left_max_temp>left_max:\n",
    "            left_max=left_max_temp;\n",
    "        if right_max_temp>right_max:\n",
    "            right_max=right_max_temp;"
   ]
  },
  {
   "cell_type": "code",
   "execution_count": 11,
   "id": "76e2d6fc",
   "metadata": {},
   "outputs": [],
   "source": [
    "import math\n",
    "\n",
    "length=data.shape[0];\n",
    "xl={};#左眼中间横坐标\n",
    "yl={};#左眼中间纵坐标\n",
    "xr={};#右眼中间横坐标\n",
    "yr={};#右眼中间纵坐标\n",
    "xm={};#上唇中间的横坐标\n",
    "ym={};#下唇中间横坐标\n",
    "A={};\n",
    "B={};\n",
    "C={};\n",
    "d={};#上唇中部到两眼连线的距离\n",
    "head_amplitude={}; #头部摆动幅度\n",
    "\n",
    "left_max_ratio={};\n",
    "right_max_ratio={};\n",
    "\n",
    "K={};\n",
    "\n",
    "for i in range(0,length-1):\n",
    "    i=i+1;\n",
    "    id=data.iloc[i][\"id\"];\n",
    "    frame=int(data.iloc[i][\"frame\"]);\n",
    "    if id == 39.0 :\n",
    "        xl[frame]=(float(data.iloc[i-2][\"x\"])+float(data.iloc[i-1][\"x\"])+float(data.iloc[i+1][\"x\"])+float(data.iloc[i+2][\"x\"]))/4\n",
    "        yl[frame]=(float(data.iloc[i-2][\"y\"])+float(data.iloc[i-1][\"y\"])+float(data.iloc[i+1][\"y\"])+float(data.iloc[i+2][\"y\"]))/4\n",
    "        \n",
    "        x39=float(data.iloc[i][\"x\"])\n",
    "        x36=float(data.iloc[i-3][\"x\"])\n",
    "        x45=float(data.iloc[i+6][\"x\"])\n",
    "        x42=float(data.iloc[i+3][\"x\"])\n",
    "        w_left_sub=x39-x36;#左眼的宽度差值\n",
    "        w_right_sub=x45-x42;#右眼的宽度差值\n",
    "        y38=float(data.iloc[i-1][\"y\"])\n",
    "        y40=float(data.iloc[i+1][\"y\"])\n",
    "        y43=float(data.iloc[i+4][\"y\"])\n",
    "        y47=float(data.iloc[i+8][\"y\"])\n",
    "        h_left_sub=y40-y38;#左眼的高度差值\n",
    "        h_right_sub=y47-y43;#右眼的高度差值\n",
    "        \n",
    "        #求百分比\n",
    "        left_max_temp=w_left_sub*h_left_sub;\n",
    "        left_max_ratio[frame]=left_max_temp/left_max;#左眼目前/左眼最大\n",
    "        right_max_temp=w_right_sub*h_right_sub;\n",
    "        right_max_ratio[frame]=right_max_temp/right_max;\n",
    "        \n",
    "    if id == 45.0 :\n",
    "        xr[frame]=(float(data.iloc[i-2][\"x\"])+float(data.iloc[i-1][\"x\"])+float(data.iloc[i+1][\"x\"])+float(data.iloc[i+2][\"x\"]))/4\n",
    "        yr[frame]=(float(data.iloc[i-2][\"y\"])+float(data.iloc[i-1][\"y\"])+float(data.iloc[i+1][\"y\"])+float(data.iloc[i+2][\"y\"]))/4        \n",
    "    if id == 51.0 :\n",
    "        xm[frame]=float(data.iloc[i][\"x\"])\n",
    "        ym[frame]=float(data.iloc[i][\"y\"])\n",
    "    if id == 54.0:\n",
    "        x54=float(data.iloc[i][\"x\"])\n",
    "        x48=float(data.iloc[i-6][\"x\"])\n",
    "        w=x54-x48;#嘴巴的横\n",
    "        y50=float(data.iloc[i-4][\"y\"])\n",
    "        y58=float(data.iloc[i+4][\"y\"])\n",
    "        y52=float(data.iloc[i-2][\"y\"])\n",
    "        y56=float(data.iloc[i+2][\"y\"])\n",
    "        h=0.5*(abs(y50-y58)+abs(y52-y56));#嘴巴的纵\n",
    "        K[frame]=h/w;\n",
    "        \n",
    "dmax=0;\n",
    "#求上唇中间到双眼连线的距离\n",
    "for j in range(1,frame+1):\n",
    "    A[j]=yr[j]-yl[j];\n",
    "    B[j]=xl[j]-xr[j];\n",
    "    C[j]=xr[j]*yl[j]-xl[j]*yr[j]\n",
    "    d[j] = np.abs(A[j] * xm[j] + B[j] * ym[j] + C[j] ) / (np.sqrt(A[j]**2 + B[j]**2))\n",
    "    dmax=max(dmax,d[j]);#更新最大值\n",
    "    \n",
    "\n",
    "# print(\"最大的d是：\",dmax)\n",
    "\n",
    "#求出头的摆动幅度（转化为度）\n",
    "for k in range(1,frame+1):\n",
    "\n",
    "    head_amplitude[k]=math.degrees(math.acos(d[k]/dmax));"
   ]
  },
  {
   "cell_type": "code",
   "execution_count": 12,
   "id": "48e79c11",
   "metadata": {},
   "outputs": [],
   "source": [
    "#输出到文件\n",
    "        \n",
    "#字典中的key值即为csv中的列名\n",
    "\n",
    "frame_col={};\n",
    "\n",
    "for k in range(1,frame+1):\n",
    "    frame_col[k]=k;\n",
    "    \n",
    "df = pd.DataFrame({'frame':frame_col,'head_amplitude':head_amplitude,\n",
    "                  'left_max_ratio':left_max_ratio,'right_max_ratio':right_max_ratio,\n",
    "                  'K':K})\n",
    " \n",
    "#将DataFrame存储为csv，index表识时候显示行名，default=True\n",
    "df.to_csv(\"data_new/level_0/0_1.csvhead.csv\",index=False,sep=',')"
   ]
  },
  {
   "cell_type": "code",
   "execution_count": null,
   "id": "4178a21d",
   "metadata": {},
   "outputs": [],
   "source": []
  }
 ],
 "metadata": {
  "kernelspec": {
   "display_name": "Python 3 (ipykernel)",
   "language": "python",
   "name": "python3"
  },
  "language_info": {
   "codemirror_mode": {
    "name": "ipython",
    "version": 3
   },
   "file_extension": ".py",
   "mimetype": "text/x-python",
   "name": "python",
   "nbconvert_exporter": "python",
   "pygments_lexer": "ipython3",
   "version": "3.7.3"
  }
 },
 "nbformat": 4,
 "nbformat_minor": 5
}
