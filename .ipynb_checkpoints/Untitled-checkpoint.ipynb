{
 "cells": [
  {
   "cell_type": "code",
   "execution_count": null,
   "id": "9138d49c",
   "metadata": {},
   "outputs": [],
   "source": [
    "import pandas as pd\n",
    "import numpy as np\n",
    "import matplotlib as mpl\n",
    "from sklearn.metrics import roc_curve, auc\n",
    "from sklearn.model_selection import cross_val_score\n",
    "from sklearn.preprocessing import LabelEncoder\n",
    "from sklearn.ensemble import RandomForestClassifier as RF\n",
    "from sklearn.linear_model import LogisticRegression as LR\n",
    "from sklearn.model_selection import train_test_split  # 随机划分数据集\n",
    "import matplotlib.pyplot as plt\n",
    "from warnings import simplefilter\n",
    "\n",
    "simplefilter(action='ignore') #忽略警告"
   ]
  },
  {
   "cell_type": "code",
   "execution_count": null,
   "id": "d63b57a2",
   "metadata": {},
   "outputs": [],
   "source": [
    "#读取数据\n",
    "\n",
    "df = pd.read_csv('data_2.csv')  # 读入csv文件中的特征\n",
    "\n",
    "print(\"初始数据如下：\")\n",
    "pd.DataFrame(df)"
   ]
  },
  {
   "cell_type": "code",
   "execution_count": null,
   "id": "cec801fe",
   "metadata": {},
   "outputs": [],
   "source": [
    "def MaxMinNormalization(x,Max,Min):\n",
    "\tx = (x - Min) / (Max - Min);\n",
    "\treturn x;\n",
    "\n",
    "df['center_std']=MaxMinNormalization(df['center_std'],df['center_std'].max(),df['center_std'].min())\n",
    "df"
   ]
  },
  {
   "cell_type": "code",
   "execution_count": null,
   "id": "71fa0496",
   "metadata": {},
   "outputs": [],
   "source": [
    "#分离特征及标签\n",
    "\n",
    "X = df.drop(['level_label','file_index'], axis=1)  # 移除fatigue_result列,其它列都是特征\n",
    "Y = df['level_label']  # 提取出标签页\n",
    "\n",
    "print(\"提取出标签后的特征如下：\")\n",
    "# pd.DataFrame(X)"
   ]
  },
  {
   "cell_type": "code",
   "execution_count": null,
   "id": "51ceb7c9",
   "metadata": {},
   "outputs": [],
   "source": [
    "x_train, x_test, y_train, y_test = train_test_split(X, Y,random_state = 1,test_size=0.20)"
   ]
  },
  {
   "cell_type": "code",
   "execution_count": null,
   "id": "d436561e",
   "metadata": {},
   "outputs": [],
   "source": [
    "# 参数优化过程\n",
    "model_range=range(1,10)\n",
    "model_score = []\n",
    "for i in model_range:\n",
    "    rf = RF(n_estimators=i,random_state=3,max_depth=2)\n",
    "    # loss=-cross_val_score(rf,x_test,y_test,cv=5)\n",
    "    # model_score.append(loss.mean())\n",
    "#     scores = cross_val_score(rf, X, Y, cv=5)\n",
    "#     model_score.append(scores.mean())\n",
    "    rf.fit(x_train, y_train)\n",
    "    model_score.append(rf.score(x_test, y_test))\n",
    "\n",
    "plt.plot(model_range,model_score,label = 'test_score')\n",
    "# plt.xlabel('random_state')\n",
    "plt.ylabel('Accuracy')\n",
    "plt.show()\n",
    "\n"
   ]
  },
  {
   "cell_type": "code",
   "execution_count": null,
   "id": "c2ebb701",
   "metadata": {},
   "outputs": [],
   "source": [
    "pd.DataFrame(x_train)"
   ]
  },
  {
   "cell_type": "code",
   "execution_count": null,
   "id": "7f3743bb",
   "metadata": {},
   "outputs": [],
   "source": [
    "# '''随机森林'''\n",
    "rf = RF(random_state=3,n_estimators=1,max_depth=2)\n",
    "rf.fit(x_train, y_train)\n",
    "print(f'随机森林准确率为{rf.score(x_test, y_test)}')\n"
   ]
  },
  {
   "cell_type": "code",
   "execution_count": null,
   "id": "96f63a32",
   "metadata": {},
   "outputs": [],
   "source": [
    " from sklearn.metrics import confusion_matrix\n",
    "\n",
    "recall_rf = []\n",
    "FPR_rf = []\n",
    "y_true = y_test\n",
    "prob_rf = rf.predict_proba(x_test)\n",
    "probrange_rf = np.linspace(prob_rf[:, 1].min(), prob_rf[:, 1].max(), 50)\n",
    "for i in probrange_rf:\n",
    "    y_pre = []\n",
    "    for k in range(prob_rf.shape[0]):\n",
    "        if prob_rf[k, 1] > i:\n",
    "            y_pre.append(1)\n",
    "        else:\n",
    "            y_pre.append(0)\n",
    "    C = confusion_matrix(y_true, y_pre)\n",
    "    recall_rf.append(C[0, 0] / C[0, :].sum())\n",
    "    FPR_rf.append(C[1, 0] / C[1, :].sum())\n",
    "\n",
    "area_rf = \"AUC area of RF is \" + str(round(auc(FPR_rf, recall_rf), 3))\n",
    "plt.plot(FPR_rf, recall_rf, c='darkblue',label=area_rf)"
   ]
  },
  {
   "cell_type": "code",
   "execution_count": null,
   "id": "747db797",
   "metadata": {},
   "outputs": [],
   "source": [
    "#模型指标\n",
    "from sklearn.metrics import f1_score\n",
    "from sklearn.metrics import precision_score, recall_score\n",
    "\n",
    "#PCA前\n",
    "print(\"\\nPCA之前的指标\")\n",
    "#随机森林\n",
    "print('\\n随机森林')\n",
    "print(f'准确率为{rf.score(x_test, y_test)}')\n",
    "print(f'AUC面积为{round(auc(FPR_rf, recall_rf), 6)}')\n",
    "y_predict = rf.predict(x_test)\n",
    "print(f'宏F1为{f1_score(y_test, y_predict,average=\"macro\")}')\n",
    "print(f'微F1为{f1_score(y_test, y_predict,average=\"micro\")}')\n",
    "print(f'宏查准率为{precision_score(y_test, y_predict,average=\"macro\")}')\n",
    "print(f'微查准率为{precision_score(y_test, y_predict,average=\"micro\")}')\n",
    "print(f'宏查全率为{recall_score(y_test, y_predict,average=\"macro\")}')\n",
    "print(f'微查全率为{recall_score(y_test, y_predict,average=\"micro\")}')\n"
   ]
  }
 ],
 "metadata": {
  "kernelspec": {
   "display_name": "Python 3 (ipykernel)",
   "language": "python",
   "name": "python3"
  },
  "language_info": {
   "codemirror_mode": {
    "name": "ipython",
    "version": 3
   },
   "file_extension": ".py",
   "mimetype": "text/x-python",
   "name": "python",
   "nbconvert_exporter": "python",
   "pygments_lexer": "ipython3",
   "version": "3.7.3"
  }
 },
 "nbformat": 4,
 "nbformat_minor": 5
}
