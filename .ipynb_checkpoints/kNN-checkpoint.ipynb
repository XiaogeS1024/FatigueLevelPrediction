{
 "cells": [
  {
   "cell_type": "code",
   "execution_count": 1,
   "id": "1e44db66",
   "metadata": {
    "scrolled": false
   },
   "outputs": [],
   "source": [
    "import pandas as pd\n",
    "import numpy as np\n",
    "from sklearn.metrics import roc_curve, auc\n",
    "from sklearn.model_selection import cross_val_score\n",
    "from sklearn.preprocessing import LabelEncoder\n",
    "from sklearn.ensemble import RandomForestClassifier as RF\n",
    "from sklearn.linear_model import LogisticRegression as LR\n",
    "from sklearn.model_selection import train_test_split  # 随机划分数据集\n",
    "import matplotlib.pyplot as plt\n",
    "from warnings import simplefilter\n",
    "\n",
    "simplefilter(action='ignore') #忽略警告"
   ]
  },
  {
   "cell_type": "code",
   "execution_count": 2,
   "id": "6ba8d77f",
   "metadata": {},
   "outputs": [
    {
     "name": "stdout",
     "output_type": "stream",
     "text": [
      "初始数据如下：\n"
     ]
    }
   ],
   "source": [
    "#读取数据\n",
    "\n",
    "df = pd.read_csv('data_1.csv')  # 读入csv文件中的特征\n",
    "\n",
    "print(\"初始数据如下：\")\n",
    "# pd.DataFrame(df)"
   ]
  },
  {
   "cell_type": "code",
   "execution_count": 3,
   "id": "e0dbad34",
   "metadata": {},
   "outputs": [
    {
     "name": "stdout",
     "output_type": "stream",
     "text": [
      "提取出标签后的特征如下：\n"
     ]
    }
   ],
   "source": [
    "#分离特征及标签\n",
    "\n",
    "X = df.drop(['level_label','file_index'], axis=1)  # 移除fatigue_result列,其它列都是特征\n",
    "Y = df['level_label']  # 提取出标签页\n",
    "\n",
    "print(\"提取出标签后的特征如下：\")\n",
    "# pd.DataFrame(X)"
   ]
  },
  {
   "cell_type": "code",
   "execution_count": 4,
   "id": "77d61863",
   "metadata": {
    "scrolled": false
   },
   "outputs": [
    {
     "data": {
      "text/html": [
       "<div>\n",
       "<style scoped>\n",
       "    .dataframe tbody tr th:only-of-type {\n",
       "        vertical-align: middle;\n",
       "    }\n",
       "\n",
       "    .dataframe tbody tr th {\n",
       "        vertical-align: top;\n",
       "    }\n",
       "\n",
       "    .dataframe thead th {\n",
       "        text-align: right;\n",
       "    }\n",
       "</style>\n",
       "<table border=\"1\" class=\"dataframe\">\n",
       "  <thead>\n",
       "    <tr style=\"text-align: right;\">\n",
       "      <th></th>\n",
       "      <th>0</th>\n",
       "      <th>1</th>\n",
       "      <th>2</th>\n",
       "    </tr>\n",
       "  </thead>\n",
       "  <tbody>\n",
       "    <tr>\n",
       "      <th>0</th>\n",
       "      <td>0.346001</td>\n",
       "      <td>1.865425</td>\n",
       "      <td>-0.329368</td>\n",
       "    </tr>\n",
       "    <tr>\n",
       "      <th>1</th>\n",
       "      <td>-1.349218</td>\n",
       "      <td>-0.314689</td>\n",
       "      <td>0.630574</td>\n",
       "    </tr>\n",
       "    <tr>\n",
       "      <th>2</th>\n",
       "      <td>0.792111</td>\n",
       "      <td>-0.314689</td>\n",
       "      <td>-0.192233</td>\n",
       "    </tr>\n",
       "    <tr>\n",
       "      <th>3</th>\n",
       "      <td>0.881333</td>\n",
       "      <td>-0.314689</td>\n",
       "      <td>0.493439</td>\n",
       "    </tr>\n",
       "    <tr>\n",
       "      <th>4</th>\n",
       "      <td>0.435223</td>\n",
       "      <td>-0.314689</td>\n",
       "      <td>-0.329368</td>\n",
       "    </tr>\n",
       "    <tr>\n",
       "      <th>...</th>\n",
       "      <td>...</td>\n",
       "      <td>...</td>\n",
       "      <td>...</td>\n",
       "    </tr>\n",
       "    <tr>\n",
       "      <th>80</th>\n",
       "      <td>-0.367775</td>\n",
       "      <td>-0.314689</td>\n",
       "      <td>-0.329368</td>\n",
       "    </tr>\n",
       "    <tr>\n",
       "      <th>81</th>\n",
       "      <td>-1.259996</td>\n",
       "      <td>-0.314689</td>\n",
       "      <td>-0.329368</td>\n",
       "    </tr>\n",
       "    <tr>\n",
       "      <th>82</th>\n",
       "      <td>0.881333</td>\n",
       "      <td>-0.314689</td>\n",
       "      <td>-0.329368</td>\n",
       "    </tr>\n",
       "    <tr>\n",
       "      <th>83</th>\n",
       "      <td>-1.616884</td>\n",
       "      <td>-0.314689</td>\n",
       "      <td>-0.329368</td>\n",
       "    </tr>\n",
       "    <tr>\n",
       "      <th>84</th>\n",
       "      <td>0.256779</td>\n",
       "      <td>1.502073</td>\n",
       "      <td>-0.329368</td>\n",
       "    </tr>\n",
       "  </tbody>\n",
       "</table>\n",
       "<p>85 rows × 3 columns</p>\n",
       "</div>"
      ],
      "text/plain": [
       "           0         1         2\n",
       "0   0.346001  1.865425 -0.329368\n",
       "1  -1.349218 -0.314689  0.630574\n",
       "2   0.792111 -0.314689 -0.192233\n",
       "3   0.881333 -0.314689  0.493439\n",
       "4   0.435223 -0.314689 -0.329368\n",
       "..       ...       ...       ...\n",
       "80 -0.367775 -0.314689 -0.329368\n",
       "81 -1.259996 -0.314689 -0.329368\n",
       "82  0.881333 -0.314689 -0.329368\n",
       "83 -1.616884 -0.314689 -0.329368\n",
       "84  0.256779  1.502073 -0.329368\n",
       "\n",
       "[85 rows x 3 columns]"
      ]
     },
     "execution_count": 4,
     "metadata": {},
     "output_type": "execute_result"
    }
   ],
   "source": [
    "#划分数据集,4：1划分训练集和测试集\n",
    "x_train,x_test,y_train,y_test = train_test_split(X,Y,test_size=0.2,random_state=20)\n",
    "\n",
    "from sklearn.preprocessing import StandardScaler\n",
    "\n",
    "#特征工程：标准化\n",
    "standard_transfer = StandardScaler()\n",
    "x_train = standard_transfer.fit_transform(x_train)\n",
    "x_test = standard_transfer.transform(x_test)\n",
    "pd.DataFrame(x_test)"
   ]
  },
  {
   "cell_type": "code",
   "execution_count": 14,
   "id": "f880e79f",
   "metadata": {},
   "outputs": [
    {
     "data": {
      "image/png": "[encoded data removed]",
      "text/plain": [
       "<Figure size 432x288 with 1 Axes>"
      ]
     },
     "metadata": {
      "needs_background": "light"
     },
     "output_type": "display_data"
    }
   ],
   "source": [
    "from sklearn.neighbors import KNeighborsClassifier as kNN\n",
    "# 参数优化过程\n",
    "model_range=range(1,20)\n",
    "model_score = []\n",
    "for i in model_range:\n",
    "    knn = kNN(n_neighbors=i,algorithm='kd_tree', weights='distance', n_jobs=1,p=2,leaf_size=30)\n",
    "    knn.fit(x_train,y_train)\n",
    "    score = knn.score(x_test, y_test)\n",
    "    model_score.append(score)\n",
    "\n",
    "plt.plot(model_range,model_score,label = 'test_score')\n",
    "plt.xlabel('random_state')\n",
    "plt.ylabel('Accuracy')\n",
    "plt.show()\n"
   ]
  },
  {
   "cell_type": "code",
   "execution_count": 18,
   "id": "7f31954e",
   "metadata": {},
   "outputs": [
    {
     "name": "stdout",
     "output_type": "stream",
     "text": [
      "KNN准确率为0.4823529411764706\n"
     ]
    }
   ],
   "source": [
    "from sklearn.neighbors import KNeighborsClassifier as kNN\n",
    "\n",
    "knn = kNN(n_neighbors=6, algorithm='kd_tree', weights='distance', n_jobs=1,p=2,leaf_size=30)\n",
    "knn.fit(x_train,y_train)\n",
    "\n",
    "print(f'KNN准确率为{knn.score(x_test, y_test)}')"
   ]
  },
  {
   "cell_type": "code",
   "execution_count": 19,
   "id": "1f9a79af",
   "metadata": {},
   "outputs": [
    {
     "data": {
      "text/plain": [
       "[<matplotlib.lines.Line2D at 0x1be416896d8>]"
      ]
     },
     "execution_count": 19,
     "metadata": {},
     "output_type": "execute_result"
    },
    {
     "data": {
      "image/png": "[encoded data removed]",
      "text/plain": [
       "<Figure size 432x288 with 1 Axes>"
      ]
     },
     "metadata": {
      "needs_background": "light"
     },
     "output_type": "display_data"
    }
   ],
   "source": [
    "#模型评估\n",
    "from sklearn.metrics import confusion_matrix\n",
    "\n",
    "recall_knn = []\n",
    "FPR_knn = []\n",
    "y_true = y_test\n",
    "prob_knn = knn.predict_proba(x_test)\n",
    "probrange_knn = np.linspace(prob_knn[:, 1].min(), prob_knn[:, 1].max(), 50)\n",
    "for i in probrange_knn:\n",
    "    y_pre = []\n",
    "    for k in range(prob_knn.shape[0]):\n",
    "        if prob_knn[k, 1] > i:\n",
    "            y_pre.append(1)\n",
    "        else:\n",
    "            y_pre.append(0)\n",
    "    C = confusion_matrix(y_true, y_pre)\n",
    "    recall_knn.append(C[0, 0] / C[0, :].sum())\n",
    "    FPR_knn.append(C[1, 0] / C[1, :].sum())\n",
    "\n",
    "area_knn = \"AUC area of KNN is \" + str(round(auc(FPR_knn, recall_knn), 3))\n",
    "plt.plot(FPR_knn, recall_knn, c='darkblue',label=area_knn)"
   ]
  },
  {
   "cell_type": "code",
   "execution_count": 21,
   "id": "c7dc3371",
   "metadata": {},
   "outputs": [
    {
     "name": "stdout",
     "output_type": "stream",
     "text": [
      "\n",
      "kNN\n",
      "准确率为0.4823529411764706\n",
      "AUC面积为0.578431\n",
      "宏F1为0.44591021049609375\n",
      "微F1为0.4823529411764706\n",
      "宏查准率为0.4905660377358491\n",
      "微查准率为0.4823529411764706\n",
      "宏查全率为0.4553263729734318\n",
      "微查全率为0.4823529411764706\n"
     ]
    }
   ],
   "source": [
    "#模型指标\n",
    "from sklearn.metrics import roc_curve\n",
    "from sklearn.metrics import f1_score\n",
    "from sklearn.metrics import precision_score, recall_score\n",
    "\n",
    "print('\\nkNN')\n",
    "print(f'准确率为{knn.score(x_test, y_test)}')\n",
    "print(f'AUC面积为{round(auc(FPR_knn, recall_knn), 6)}')\n",
    "y_predict = knn.predict(x_test)\n",
    "print(f'宏F1为{f1_score(y_test, y_predict,average=\"macro\")}')\n",
    "print(f'微F1为{f1_score(y_test, y_predict,average=\"micro\")}')\n",
    "print(f'宏查准率为{precision_score(y_test, y_predict,average=\"macro\")}')\n",
    "print(f'微查准率为{precision_score(y_test, y_predict,average=\"micro\")}')\n",
    "print(f'宏查全率为{recall_score(y_test, y_predict,average=\"macro\")}')\n",
    "print(f'微查全率为{recall_score(y_test, y_predict,average=\"micro\")}')"
   ]
  },
  {
   "cell_type": "code",
   "execution_count": null,
   "id": "b25eeb3a",
   "metadata": {},
   "outputs": [],
   "source": []
  }
 ],
 "metadata": {
  "kernelspec": {
   "display_name": "Python 3 (ipykernel)",
   "language": "python",
   "name": "python3"
  },
  "language_info": {
   "codemirror_mode": {
    "name": "ipython",
    "version": 3
   },
   "file_extension": ".py",
   "mimetype": "text/x-python",
   "name": "python",
   "nbconvert_exporter": "python",
   "pygments_lexer": "ipython3",
   "version": "3.7.3"
  }
 },
 "nbformat": 4,
 "nbformat_minor": 5
}
