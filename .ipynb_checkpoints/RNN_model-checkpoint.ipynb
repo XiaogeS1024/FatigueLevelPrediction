{
 "cells": [
  {
   "cell_type": "code",
   "execution_count": 1,
   "id": "1e44db66",
   "metadata": {
    "scrolled": false
   },
   "outputs": [],
   "source": [
    "import pandas as pd\n",
    "import numpy as np\n",
    "from sklearn.metrics import roc_curve, auc\n",
    "from sklearn.model_selection import cross_val_score\n",
    "from sklearn.preprocessing import LabelEncoder\n",
    "from sklearn.ensemble import RandomForestClassifier as RF\n",
    "from sklearn.linear_model import LogisticRegression as LR\n",
    "from sklearn.model_selection import train_test_split  # 随机划分数据集\n",
    "import matplotlib.pyplot as plt\n",
    "from warnings import simplefilter\n",
    "\n",
    "simplefilter(action='ignore') #忽略警告"
   ]
  },
  {
   "cell_type": "code",
   "execution_count": 2,
   "id": "6ba8d77f",
   "metadata": {},
   "outputs": [],
   "source": [
    "#读取数据\n",
    "\n",
    "#data = pd.read_csv('data.csv',encoding = 'gb2312')  # 读入csv文件中的特征\n",
    "\n",
    "#data = data.drop('SMILES',axis=1)  #删除第一列（是化合物的表达式，不作为特征）\n",
    "\n",
    "# data.info()#输出基本信息"
   ]
  },
  {
   "cell_type": "code",
   "execution_count": 1,
   "id": "65dd9575",
   "metadata": {
    "scrolled": false
   },
   "outputs": [],
   "source": [
    "#去除重复值\n",
    "\n",
    "#data.duplicated()#查看重复值\n",
    "#data.drop_duplicates(inplace=True)#删除重复值\n",
    "\n",
    "#print(\"去重之后：\")\n",
    "#pd.DataFrame(data)"
   ]
  },
  {
   "cell_type": "code",
   "execution_count": 2,
   "id": "e6a49749",
   "metadata": {},
   "outputs": [],
   "source": [
    "#p判断缺失值\n",
    "\n",
    "# pd.set_option('display.max_columns', None) #显示所有列\n",
    "# pd.set_option('display.max_rows', None)  #显示所有行\n",
    "#(data.isnull()).sum()#判断是否有缺失值"
   ]
  },
  {
   "cell_type": "code",
   "execution_count": 3,
   "id": "1ddc3a72",
   "metadata": {},
   "outputs": [],
   "source": [
    "#观察pIC50的数据分布，发现不存在十分异常的数据\n",
    "#data = data.sort_values('pIC50')\n",
    "#print(data['pIC50'].describe())\n",
    "#data['pIC50'].hist()"
   ]
  },
  {
   "cell_type": "code",
   "execution_count": 4,
   "id": "36b2179b",
   "metadata": {},
   "outputs": [],
   "source": [
    "#相关性分析\n",
    "import seaborn as sns\n",
    "\n",
    "#提取特征列\n",
    "#data_feature = data.drop(['pIC50','Caco-2','CYP3A4','hERG','HOB','MN'], axis=1)  \n",
    "#corr = abs(data_feature.corr()) #对于特征进行相关性分析，以便删除高度线性相关的\n",
    "#corr"
   ]
  },
  {
   "cell_type": "code",
   "execution_count": 5,
   "id": "4643f320",
   "metadata": {},
   "outputs": [],
   "source": [
    "#sns.set(style='whitegrid', color_codes=True)#热力图（数据太大，效果不好）\n",
    "#sns.heatmap(corr)"
   ]
  },
  {
   "cell_type": "code",
   "execution_count": 6,
   "id": "bf301951",
   "metadata": {},
   "outputs": [],
   "source": [
    "#delSimCol = []\n",
    "#colNum = corr.shape[0]\n",
    "#names = corr.columns\n",
    "#for i in range(colNum):\n",
    "#    for j in range(i+1,colNum):\n",
    "#        if corr.iloc[i,j]>0.9:\n",
    "#            delSimCol.append((names[i],names[j])) \n",
    "            \n",
    "#delCol = [i[1] for i in delSimCol]#取每对相似特征的前面一个\n",
    "#delCol=list(set(delCol))#特征去重\n",
    "#data=data.drop(delCol,axis=1)#在data当中去除掉高度线性相关的特征\n",
    "\n",
    "#pd.DataFrame(data)"
   ]
  },
  {
   "cell_type": "code",
   "execution_count": 7,
   "id": "952e4c51",
   "metadata": {},
   "outputs": [],
   "source": [
    "#找到和标签相关度高的特征来保留\n",
    "\n",
    "#data_pic50=data.drop(['Caco-2','CYP3A4','hERG','HOB','MN'],axis=1)#提取特征列+pic50\n",
    "\n",
    "#corr_pic50 = abs(data_pic50.corr()) #abs取绝对值\n",
    "#corr_pic50.sort_values(by=\"pIC50\",ascending=False,inplace=True)#按照和标签的相关度排序\n",
    "#corr_pic50"
   ]
  },
  {
   "cell_type": "code",
   "execution_count": 8,
   "id": "c4602f6d",
   "metadata": {},
   "outputs": [],
   "source": [
    "# pd.set_option('display.max_rows', None)#显示所有行\n",
    "\n",
    "#print(\"和标签的相关度高的特征如下：\")\n",
    "#corr_pic50[\"pIC50\"].sort_values"
   ]
  },
  {
   "cell_type": "code",
   "execution_count": 9,
   "id": "6cba5fea",
   "metadata": {},
   "outputs": [],
   "source": [
    "#data=data.loc[:,('MDEC-23','LipoaffinityIndex','minsOH','n6Ring','BCUTp-1h',\n",
    "#               'minsssN','hmin','C2SP2','AMR','SwHBa',\n",
    "#             'MDEC-22','CrippenLogP','C1SP2','minHsOH','nRing',\n",
    "#               'MLFER_A','C3SP2','ATSc3','SaasC','nHsOH','pIC50','Caco-2','CYP3A4','hERG','HOB','MN')]"
   ]
  },
  {
   "cell_type": "code",
   "execution_count": 10,
   "id": "cacfb536",
   "metadata": {},
   "outputs": [],
   "source": [
    "#Y=data.loc[:,('pIC50')]\n",
    "#X=data.drop(['pIC50','Caco-2','CYP3A4','hERG','HOB','MN'],axis=1)\n",
    "\n",
    "#划分训练集和测试集\n",
    "#x_train, x_test, y_train, y_test = train_test_split(X, Y,random_state = 20,test_size=0.20)"
   ]
  },
  {
   "cell_type": "code",
   "execution_count": null,
   "id": "c81fd4ec",
   "metadata": {},
   "outputs": [],
   "source": []
  },
  {
   "cell_type": "code",
   "execution_count": 11,
   "id": "b12085cf",
   "metadata": {
    "scrolled": false
   },
   "outputs": [],
   "source": [
    "#第二题\n",
    "\n",
    "from sklearn.linear_model import  LinearRegression \n",
    "from sklearn.metrics import mean_absolute_error\n",
    "from sklearn.metrics import mean_squared_error\n",
    "from sklearn.metrics import r2_score                #直接调用库函数进行输出R2\n",
    "\n",
    "#model = LinearRegression()\n",
    "#model.fit(x_train,y_train)\n",
    "#y_predict=model.predict(x_test)\n",
    "#print(\"均方差：\",mean_squared_error(y_test,y_predict))\n",
    "#print(\"平均绝对误差：\",mean_absolute_error(y_test,y_predict))\n",
    "#print(\"各项系数：\",model.coef_)               #输出多元线性回归的各项系数\n",
    "#print(\"各个特征的影响系数排序\",np.argsort(model.coef_))  #输出多元线性回归算法各个特征的系数排序，可以知道各个特征的影响度\n",
    "#X.dtypes[np.argsort(model.coef_)]  #输出各个特征按照影响系数从小到大的顺序\n"
   ]
  },
  {
   "cell_type": "code",
   "execution_count": 12,
   "id": "a9a1d003",
   "metadata": {},
   "outputs": [],
   "source": [
    "#def __sst(y_no_fitting):#计算SST(total sum of squares) 总平方和\n",
    "#    y_mean = sum(y_no_fitting) / len(y_no_fitting)\n",
    "#    s_list =[(y - y_mean)**2 for y in y_no_fitting]\n",
    "#    sst = sum(s_list)\n",
    "#    return sst\n",
    "\n",
    "\n",
    "#def __ssr(y_fitting, y_no_fitting):#计算SSR(regression sum of squares) 回归平方和\n",
    "#    y_mean = sum(y_no_fitting) / len(y_no_fitting)\n",
    "#    s_list =[(y - y_mean)**2 for y in y_fitting]\n",
    "#    ssr = sum(s_list)\n",
    "#    return ssr\n",
    "\n",
    "\n",
    "#def __sse(y_fitting, y_no_fitting):#计算SSE(error sum of squares) 残差平方和\n",
    "#    s_list = [(y_fitting[i] - y_no_fitting[i])**2 for i in range(len(y_fitting))]\n",
    "#    sse = sum(s_list)\n",
    "#    return sse\n",
    "\n",
    "\n",
    "#def goodness_of_fit(y_fitting, y_no_fitting):#计算拟合优度R^2\n",
    "#    SSR = __ssr(y_fitting, y_no_fitting)\n",
    "#    SST = __sst(y_no_fitting)\n",
    "#    rr = SSR /SST\n",
    "#    return rr\n",
    "\n",
    "#rr = goodness_of_fit(y_predict, y_test)\n",
    "#print(\"拟合优度为:\", rr)"
   ]
  },
  {
   "cell_type": "code",
   "execution_count": null,
   "id": "7053f102",
   "metadata": {},
   "outputs": [],
   "source": [
    "\n"
   ]
  },
  {
   "cell_type": "code",
   "execution_count": 13,
   "id": "b86bd351",
   "metadata": {},
   "outputs": [],
   "source": [
    "# 第三题 构建二分类回归模型\n",
    "\n",
    "#X = data.drop(['pIC50','Caco-2','CYP3A4','hERG','HOB','MN'],axis=1)\n",
    "#Y = data['Caco-2']"
   ]
  },
  {
   "cell_type": "code",
   "execution_count": 14,
   "id": "77d61863",
   "metadata": {
    "scrolled": false
   },
   "outputs": [],
   "source": [
    "#划分数据集,4：1划分训练集和测试集\n",
    "#x_train,x_test,y_train,y_test = train_test_split(X,Y,test_size=0.2,random_state=20)\n",
    "\n",
    "from sklearn.preprocessing import StandardScaler\n",
    "\n",
    "#特征工程：标准化\n",
    "#standard_transfer = StandardScaler()\n",
    "#x_train = standard_transfer.fit_transform(x_train)\n",
    "#x_test = standard_transfer.transform(x_test)\n",
    "#pd.DataFrame(x_test)"
   ]
  },
  {
   "cell_type": "code",
   "execution_count": 15,
   "id": "b6a52c2b",
   "metadata": {},
   "outputs": [],
   "source": [
    "from sklearn.linear_model import LogisticRegression\n",
    "\n",
    "#逻辑回归预估器\n",
    "#estimator = LogisticRegression()\n",
    "#estimator.fit(x_train, y_train)\n",
    "#print(estimator.coef_)"
   ]
  },
  {
   "cell_type": "code",
   "execution_count": 16,
   "id": "1f9a79af",
   "metadata": {},
   "outputs": [],
   "source": [
    "# 模型评估\n",
    "from sklearn.metrics import plot_roc_curve\n",
    "\n",
    "# ROC曲线\n",
    "#plot_roc_curve(estimator, x_test, y_test)\n",
    "#plt.show()"
   ]
  },
  {
   "cell_type": "code",
   "execution_count": 17,
   "id": "14510d27",
   "metadata": {},
   "outputs": [],
   "source": [
    "from sklearn.metrics import classification_report\n",
    "\n",
    "# 准确率\n",
    "#score = estimator.score(x_test, y_test)\n",
    "#print(\"准确率为：\\n\", score)\n",
    "\n",
    "# 查全率、查准率、F1指标\n",
    "#y_predict = estimator.predict(x_test)\n",
    "#report = classification_report(y_test, y_predict, labels=[1], target_names=[\"小肠上皮细胞渗透性较好\"])\n",
    "#print(report)"
   ]
  },
  {
   "cell_type": "code",
   "execution_count": null,
   "id": "bdbb29cd",
   "metadata": {},
   "outputs": [],
   "source": []
  }
 ],
 "metadata": {
  "kernelspec": {
   "display_name": "Python 3 (ipykernel)",
   "language": "python",
   "name": "python3"
  },
  "language_info": {
   "codemirror_mode": {
    "name": "ipython",
    "version": 3
   },
   "file_extension": ".py",
   "mimetype": "text/x-python",
   "name": "python",
   "nbconvert_exporter": "python",
   "pygments_lexer": "ipython3",
   "version": "3.7.9"
  }
 },
 "nbformat": 4,
 "nbformat_minor": 5
}
