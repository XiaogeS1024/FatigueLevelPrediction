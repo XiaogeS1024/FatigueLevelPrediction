{
 "cells": [
  {
   "cell_type": "code",
   "execution_count": 10,
   "id": "bdbb29cd",
   "metadata": {},
   "outputs": [],
   "source": [
    "import tensorflow as tf\n",
    "import numpy as np\n",
    "import matplotlib.pyplot as plt"
   ]
  },
  {
   "cell_type": "code",
   "execution_count": 2,
   "id": "521a1442",
   "metadata": {},
   "outputs": [],
   "source": [
    "# 首先遍历读入每个样本，结构为[帧数*特征数]的DataFrame\n",
    "# 然后把每个样本装入feature中，结构为list；同时对应记录下目标值，装入label中\n",
    "# 统一装入list之后，随机划分训练集/测试集\n",
    "# 生成的文件存储在data_lstm当中\n",
    "\n",
    "feature,label = [],[]\n",
    "#疲劳等级为[0,3)\n",
    "for labelIndex in range(0,3):\n",
    "    y = labelIndex\n",
    "    #每个等级的样本数量#############\n",
    "    sampleNum = 0\n",
    "    if labelIndex == 0:\n",
    "        sampleNum = 199\n",
    "    elif labelIndex == 1:\n",
    "        sampleNum = 90\n",
    "    else:\n",
    "        sampleNum = 132\n",
    "\n",
    "    #遍历读取样本数据\n",
    "    for sampleIndex in range(1,sampleNum + 1):\n",
    "        x = pd.read_csv(\"./data_final/level_\"+ str(labelIndex) + \"/\" + str(labelIndex)+\"_\" + str(sampleIndex) + \".csv\")\n",
    "        # 暂时做了补帧处理，后续删除，最多有85帧\n",
    "#         frameNum = x.shape[0]# 帧数\n",
    "#         if frameNum < 85:\n",
    "#             if frameNum >0: # 为了跳过空数据\n",
    "#                 # 暂时选取了最后一行的数据填补\n",
    "#                 head_amplitude = x.iloc[x.shape[0]-1].at['head_amplitude']\n",
    "#                 eyes_ratio = x.iloc[x.shape[0]-1].at['eyes_ratio']\n",
    "#                 K = x.iloc[x.shape[0]-1].at['K']\n",
    "#                 for frame in range(frameNum + 1,86):\n",
    "#                     x.loc[len(x.index)] = [frame,head_amplitude,eyes_ratio,K]\n",
    "#             else:\n",
    "#                 for frame in range(frameNum + 1,86):\n",
    "#                     x.loc[len(x.index)] = [frame,0,0,0]\n",
    "        \n",
    "        # 把每个样本装入feature中\n",
    "        #feature.append(x.values.tolist())\n",
    "        x.drop(x.columns[[0]],axis = 1,inplace=True)\n",
    "#         print(x)\n",
    "        feature.append(x)\n",
    "        label.append(y)"
   ]
  },
  {
   "cell_type": "code",
   "execution_count": 3,
   "id": "28e334f8",
   "metadata": {},
   "outputs": [],
   "source": [
    "import random\n",
    "# 现在划分训练集：验证集：测试集 = 8：1：1\n",
    "train_feature,train_label,valid_feature,valid_label,test_feature,test_label = [],[],[],[],[],[]\n",
    "for index in range (0,421):\n",
    "    sampleFeature = feature[index]\n",
    "    sampleLabel = label[index]\n",
    "    # 生成第一个随机数\n",
    "    randNum = random.random()\n",
    "    # 如果生成的随机数小于0.8，则作为训练集；剩余的作为测试集\n",
    "    if randNum < 0.8:\n",
    "        train_feature.append(sampleFeature.values.tolist())\n",
    "        train_label.append(sampleLabel)\n",
    "    elif randNum >=0.9:\n",
    "        test_feature.append(sampleFeature.values.tolist())\n",
    "        test_label.append(sampleLabel)\n",
    "    else:\n",
    "        valid_feature.append(sampleFeature.values.tolist())\n",
    "        valid_label.append(sampleLabel)\n",
    "# print(len(train_feature))\n",
    "# print(len(train_label))\n",
    "# print(len(test_feature))\n",
    "# print(len(test_label))"
   ]
  },
  {
   "cell_type": "code",
   "execution_count": null,
   "id": "89a37a57",
   "metadata": {},
   "outputs": [],
   "source": []
  },
  {
   "cell_type": "code",
   "execution_count": null,
   "id": "1dfe2e4b",
   "metadata": {},
   "outputs": [],
   "source": []
  },
  {
   "cell_type": "code",
   "execution_count": 4,
   "id": "10f6a88b",
   "metadata": {},
   "outputs": [],
   "source": [
    "BATCH_START = 0 #建立 batch data 时候的 index\n",
    "TIME_STEPS = 20 # backpropagation through time 的time_steps\n",
    "BATCH_SIZE = 50\n",
    "INPUT_SIZE = 1 # x数据输入size\n",
    "OUTPUT_SIZE = 2 # cos数据输出 size  代表0 - 1分别的概率\n",
    "CELL_SIZE = 10 # RNN的 hidden unit size\n",
    "LR = 0.006  # learning rate"
   ]
  },
  {
   "cell_type": "code",
   "execution_count": 5,
   "id": "95881b2f",
   "metadata": {},
   "outputs": [],
   "source": [
    "# 定义一些常用函数\n",
    "# 保存日志\n",
    "# fname是要保存的位置，s是要保存的内容\n",
    "def log(fname, s):\n",
    "    f = open(fname, 'a')\n",
    "    f.write(str(datetime.now()) + ': ' + s + '\\n')\n",
    "    f.close()"
   ]
  },
  {
   "cell_type": "code",
   "execution_count": 6,
   "id": "3b664bb3",
   "metadata": {},
   "outputs": [],
   "source": [
    "class My_dataset():\n",
    "    def __init__(self,data_feature,data_label):\n",
    "        super().__init__()\n",
    "        # 读取的样本装入self.src,目标值装入self.trg\n",
    "        self.src = torch.tensor(data_feature)\n",
    "        self.trg = torch.tensor(data_label)\n",
    "#         print(self.src.size())\n",
    "#         print(self.trg.size())\n",
    "        \n",
    "    def __getitem__(self, index):\n",
    "        return self.src[index], self.trg[index]\n",
    "\n",
    "    def __len__(self):\n",
    "        return len(self.src)"
   ]
  },
  {
   "cell_type": "code",
   "execution_count": 7,
   "id": "3807eaba",
   "metadata": {},
   "outputs": [],
   "source": [
    "train_data = My_dataset(train_feature,train_label)\n",
    "valid_data = My_dataset(valid_feature,valid_label)\n",
    "test_data = My_dataset(test_feature,test_label)\n",
    "\n",
    "# # i_batch的多少根据batch size和def __len__(self)返回的长度确定\n",
    "# # batch_data返回的值根据def __getitem__(self, index)来确定\n",
    "# # 对训练集：\n",
    "# for i_batch, batch_data in enumerate(train_data):\n",
    "#     print(i_batch)  # 打印batch编号\n",
    "#     print(batch_data[0])  # 打印该batch里面src\n",
    "#     print(batch_data[1])  # 打印该batch里面trg\n",
    "# # 对测试集：\n",
    "# for i_batch, (src, trg) in enumerate(test_data):\n",
    "#     print(i_batch)  # 打印batch编号\n",
    "#     print(src)  # 打印该batch里面src的尺寸\n",
    "#     print(trg)  # 打印该batch里面trg的尺寸    \n",
    "\n",
    "train_loader = DataLoader(train_data, batch_size=BATCH_SIZE,pin_memory=True, shuffle=True)\n",
    "valid_loader = DataLoader(valid_data, batch_size=BATCH_SIZE,pin_memory=True, shuffle=True)\n",
    "test_loader = DataLoader(test_data, batch_size=BATCH_SIZE,pin_memory=True, shuffle=False)"
   ]
  },
  {
   "cell_type": "code",
   "execution_count": null,
   "id": "fdf6fee1",
   "metadata": {},
   "outputs": [],
   "source": []
  }
 ],
 "metadata": {
  "kernelspec": {
   "display_name": "Python 3 (ipykernel)",
   "language": "python",
   "name": "python3"
  },
  "language_info": {
   "codemirror_mode": {
    "name": "ipython",
    "version": 3
   },
   "file_extension": ".py",
   "mimetype": "text/x-python",
   "name": "python",
   "nbconvert_exporter": "python",
   "pygments_lexer": "ipython3",
   "version": "3.7.9"
  }
 },
 "nbformat": 4,
 "nbformat_minor": 5
}
