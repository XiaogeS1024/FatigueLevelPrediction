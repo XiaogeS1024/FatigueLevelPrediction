{
 "cells": [
  {
   "cell_type": "code",
   "execution_count": null,
   "metadata": {},
   "outputs": [],
   "source": [
    "import pandas as pd\n",
    "import numpy as np\n",
    "import math\n",
    "\n",
    "from warnings import simplefilter"
   ]
  },
  {
   "cell_type": "code",
   "execution_count": null,
   "metadata": {},
   "outputs": [],
   "source": [
    "def insert(df, i, df_add):\n",
    "    # 指定第i行插入一行数据\n",
    "    df1 = df.iloc[:i, :]\n",
    "    df2 = df.iloc[i:, :]\n",
    "    df_new = pd.concat([df1, df_add, df2], ignore_index=True)\n",
    "    return df_new\n",
    "def changeType(data):\n",
    "    # 找到列名，转化为列表\n",
    "    col = list(data.columns)\n",
    "\n",
    "    # 把所有列的类型都转化为数值型，出错的地方填入NaN，再把NaN的地方补0\n",
    "    data[col] = data[col].apply(pd.to_numeric, errors='coerce').fillna(0.0)\n",
    "    # 至此，object的列（列中存储的是string类型）转成了float\n",
    "\n",
    "    # 最后一步，把所有列都转化成float类型，done！\n",
    "    data = pd.DataFrame(data, dtype='float')\n",
    "    return data\n",
    "def pf(data1,data2):\n",
    "    return (data1-data2)*(data1-data2)\n",
    "def getMinDistancePos(data,frame_count):\n",
    "    last_frame = data.loc[frame_count]\n",
    "    max_len = 10000\n",
    "    pos = 1\n",
    "    for i in range(1,frame_count-1):\n",
    "        now_frame = data.loc[i]\n",
    "        now_head_amplitude = now_frame[1]\n",
    "        now_eyes_ratio = now_frame[2]\n",
    "        now_K = now_frame[3]\n",
    "        distance = pf(last_frame[1],now_head_amplitude)+pf(last_frame[2],now_eyes_ratio)+pf(last_frame[3],now_K)\n",
    "        if distance<max_len :\n",
    "            max_len = distance\n",
    "            pos = i\n",
    "    return pos"
   ]
  },
  {
   "cell_type": "code",
   "execution_count": null,
   "metadata": {},
   "outputs": [],
   "source": [
    "target_frame_count=70"
   ]
  },
  {
   "cell_type": "code",
   "execution_count": null,
   "metadata": {},
   "outputs": [],
   "source": [
    "for level in range(0,3):\n",
    "    if level == 0 :\n",
    "        index_max = 199\n",
    "    if level == 1 :\n",
    "        index_max = 90\n",
    "    if level == 2 :\n",
    "        index_max = 132\n",
    "    for index in range(1,index_max+1):\n",
    "        file_name=\"data_new/level_\"+str(level)+\"/\"+str(level)+\"_\"+str(index)+\".csv\"\n",
    "        #print(file_name)\n",
    "        \n",
    "        data = pd.read_csv(file_name,encoding = 'gb2312',names=['frame','head_amplitude','eyes_ratio','K'])  # 读入csv文件中的特征\n",
    "\n",
    "        data = changeType(data)\n",
    "        \n",
    "                #归一化一下方便计算距离\n",
    "        df = data\n",
    "        df = (df - df.mean()) / (df.std())\n",
    "        #获取当前帧数\n",
    "        frame_count=data.shape[0]-1\n",
    "     \n",
    "        #计算出缺帧数\n",
    "        lack_frame=target_frame_count-frame_count\n",
    "        \n",
    "        if lack_frame == 0:   \n",
    "            data.drop([0],inplace = True)\n",
    "            data['frame']=data['frame'].astype(int)\n",
    "            data['head_amplitude']=data['head_amplitude'].astype(float)\n",
    "            data['eyes_ratio']=data['eyes_ratio'].astype(float)\n",
    "            data['K']=data['K'].astype(float)\n",
    "        elif lack_frame>0:\n",
    "            while True:\n",
    "                if(lack_frame<=0):\n",
    "                    break\n",
    "                df = (df - df.mean()) / (df.std())\n",
    "                pos = getMinDistancePos(df,df.shape[0]-1)\n",
    "                for i in range(pos,df.shape[0]):\n",
    "                    data = data.append({'frame':data.shape[0], 'head_amplitude':data.loc[i][1], 'eyes_ratio':data.loc[i][2], 'K':data.loc[i][3]}, ignore_index=True)\n",
    "                    lack_frame = lack_frame - 1\n",
    "                    if(lack_frame<=1):\n",
    "                        break\n",
    "        else:\n",
    "            data = data.loc[1:70]\n",
    "        data['frame']=data['frame'].astype(int)\n",
    "        data['head_amplitude']=data['head_amplitude'].astype(float)\n",
    "        data['eyes_ratio']=data['eyes_ratio'].astype(float)\n",
    "        data['K']=data['K'].astype(float) \n",
    "        df_data = data.loc[1:]\n",
    "        file_name_new=\"data_lack_frame_completion/level_\"+str(level)+\"/\"+str(level)+\"_\"+str(index)+\".csv\";\n",
    "        df_data.to_csv(file_name_new,index=False,sep=',')        "
   ]
  },
  {
   "cell_type": "code",
   "execution_count": null,
   "metadata": {},
   "outputs": [],
   "source": []
  }
 ],
 "metadata": {
  "kernelspec": {
   "display_name": "Python 3 (ipykernel)",
   "language": "python",
   "name": "python3"
  },
  "language_info": {
   "codemirror_mode": {
    "name": "ipython",
    "version": 3
   },
   "file_extension": ".py",
   "mimetype": "text/x-python",
   "name": "python",
   "nbconvert_exporter": "python",
   "pygments_lexer": "ipython3",
   "version": "3.7.3"
  }
 },
 "nbformat": 4,
 "nbformat_minor": 4
}
