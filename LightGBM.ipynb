{
 "cells": [
  {
   "cell_type": "code",
   "execution_count": 1,
   "id": "1e44db66",
   "metadata": {
    "scrolled": false
   },
   "outputs": [],
   "source": [
    "import pandas as pd\n",
    "import numpy as np\n",
    "import matplotlib as mpl\n",
    "from sklearn.metrics import roc_curve, auc\n",
    "from sklearn.model_selection import cross_val_score\n",
    "from sklearn.preprocessing import LabelEncoder\n",
    "from sklearn.model_selection import train_test_split  # 随机划分数据集\n",
    "import matplotlib.pyplot as plt\n",
    "from warnings import simplefilter\n",
    "from sklearn.metrics import accuracy_score,roc_auc_score\n",
    "\n",
    "\n",
    "simplefilter(action='ignore') #忽略警告"
   ]
  },
  {
   "cell_type": "code",
   "execution_count": 2,
   "id": "6ba8d77f",
   "metadata": {},
   "outputs": [
    {
     "name": "stdout",
     "output_type": "stream",
     "text": [
      "初始数据如下：\n"
     ]
    }
   ],
   "source": [
    "#读取数据\n",
    "\n",
    "df = pd.read_csv('data_1.csv')  # 读入csv文件中的特征\n",
    "\n",
    "print(\"初始数据如下：\")\n",
    "# pd.DataFrame(df)"
   ]
  },
  {
   "cell_type": "code",
   "execution_count": 3,
   "id": "65dd9575",
   "metadata": {
    "scrolled": false
   },
   "outputs": [
    {
     "name": "stdout",
     "output_type": "stream",
     "text": [
      "提取出标签后的特征如下：\n"
     ]
    }
   ],
   "source": [
    "#分离特征及标签\n",
    "\n",
    "X = df.drop(['level_label','file_index'], axis=1)  # 移除fatigue_result列,其它列都是特征\n",
    "Y = df['level_label']  # 提取出标签页\n",
    "\n",
    "print(\"提取出标签后的特征如下：\")\n",
    "# pd.DataFrame(X)"
   ]
  },
  {
   "cell_type": "code",
   "execution_count": 4,
   "id": "b86bd351",
   "metadata": {},
   "outputs": [],
   "source": [
    "# # 参数优化过程\n",
    "# model_range=range(5,20)\n",
    "# model_score = []\n",
    "# for i in model_range:\n",
    "#     rf = RF(n_estimators=3,random_state=10,max_depth=1)\n",
    "#     # loss=-cross_val_score(rf,x_test,y_test,cv=5)\n",
    "#     # model_score.append(loss.mean())\n",
    "#     scores = cross_val_score(rf, X, Y, cv=5)\n",
    "#     model_score.append(scores.mean())\n",
    "# plt.plot(model_range,model_score,label = 'test_score')\n",
    "# plt.xlabel('random_state')\n",
    "# plt.ylabel('Accuracy')\n",
    "# plt.show()\n",
    "\n",
    "\n",
    "#没有进行PCA时的模型表现\n",
    "x_train, x_test, y_train, y_test = train_test_split(X, Y,random_state = 1,test_size=0.20)"
   ]
  },
  {
   "cell_type": "code",
   "execution_count": 5,
   "id": "689a9a93",
   "metadata": {},
   "outputs": [
    {
     "name": "stdout",
     "output_type": "stream",
     "text": [
      "[1]\tvalid_0's l2: 0.763734\tvalid_0's auc: 0.5411\n",
      "Training until validation scores don't improve for 5 rounds\n",
      "[2]\tvalid_0's l2: 0.76077\tvalid_0's auc: 0.5411\n",
      "[3]\tvalid_0's l2: 0.758234\tvalid_0's auc: 0.5411\n",
      "[4]\tvalid_0's l2: 0.756501\tvalid_0's auc: 0.554989\n",
      "[5]\tvalid_0's l2: 0.756409\tvalid_0's auc: 0.522392\n",
      "[6]\tvalid_0's l2: 0.753025\tvalid_0's auc: 0.540533\n",
      "[7]\tvalid_0's l2: 0.749991\tvalid_0's auc: 0.580782\n",
      "[8]\tvalid_0's l2: 0.747274\tvalid_0's auc: 0.638605\n",
      "[9]\tvalid_0's l2: 0.744841\tvalid_0's auc: 0.647109\n",
      "[10]\tvalid_0's l2: 0.744232\tvalid_0's auc: 0.653912\n",
      "[11]\tvalid_0's l2: 0.741851\tvalid_0's auc: 0.679705\n",
      "[12]\tvalid_0's l2: 0.739887\tvalid_0's auc: 0.67517\n",
      "[13]\tvalid_0's l2: 0.738242\tvalid_0's auc: 0.683673\n",
      "[14]\tvalid_0's l2: 0.736797\tvalid_0's auc: 0.680839\n",
      "[15]\tvalid_0's l2: 0.735408\tvalid_0's auc: 0.679705\n",
      "[16]\tvalid_0's l2: 0.739498\tvalid_0's auc: 0.658163\n",
      "[17]\tvalid_0's l2: 0.741334\tvalid_0's auc: 0.640023\n",
      "[18]\tvalid_0's l2: 0.745472\tvalid_0's auc: 0.612245\n",
      "Early stopping, best iteration is:\n",
      "[13]\tvalid_0's l2: 0.738242\tvalid_0's auc: 0.683673\n",
      "The rmse of prediction is: 0.8592100660952701\n"
     ]
    }
   ],
   "source": [
    "# '''LightGBM'''\n",
    "\n",
    "import lightgbm as lgb\n",
    "from sklearn.metrics import mean_squared_error\n",
    "\n",
    "# # 训练\n",
    "# train_data=lgb.Dataset(x_train,label=y_train)\n",
    "# validation_data=lgb.Dataset(x_test,label=y_test)\n",
    "# params={\n",
    "#     'learning_rate':0.1,\n",
    "#     'lambda_l1':0.1,\n",
    "#     'lambda_l2':0.2,\n",
    "#     'max_depth':7,\n",
    "#     'objective':'multiclass',\n",
    "#     'num_class':4,  \n",
    "# }\n",
    "# lgb_clf=lgb.train(params,train_data,valid_sets=[validation_data])\n",
    "\n",
    "# 转换为Dataset数据格式\n",
    "lgb_train = lgb.Dataset(x_train, y_train)\n",
    "lgb_eval = lgb.Dataset(x_test, y_test, reference=lgb_train)\n",
    "\n",
    "# 参数\n",
    "params = {\n",
    "    'task': 'train',\n",
    "    'boosting_type': 'gbdt',  # 设置提升类型\n",
    "    'objective': 'regression',  # 目标函数\n",
    "    'metric': {'l2', 'auc'},  # 评估函数\n",
    "    'num_leaves': 63,  # 叶子节点数\n",
    "    'learning_rate': 0.05,  # 学习速率\n",
    "    'feature_fraction': 0.9,  # 建树的特征选择比例\n",
    "    'bagging_fraction': 0.8,  # 建树的样本采样比例\n",
    "    'bagging_freq': 5,  # k 意味着每 k 次迭代执行bagging\n",
    "    'verbose': -1  # <0 显示致命的, =0 显示错误 (警告), >0 显示信息\n",
    "}\n",
    "\n",
    "# 模型训练\n",
    "gbm = lgb.train(params, lgb_train, num_boost_round=20, valid_sets=lgb_eval, early_stopping_rounds=5)\n",
    "\n",
    "# 模型预测\n",
    "y_pred = gbm.predict(x_test, num_iteration=gbm.best_iteration)\n",
    "\n",
    "# 模型评估\n",
    "print('The rmse of prediction is:', mean_squared_error(y_test, y_pred) ** 0.5)\n",
    "\n"
   ]
  },
  {
   "cell_type": "code",
   "execution_count": 8,
   "id": "423f1f61",
   "metadata": {},
   "outputs": [
    {
     "name": "stdout",
     "output_type": "stream",
     "text": [
      "[LightGBM] [Warning] feature_fraction is set=0.9, colsample_bytree=1.0 will be ignored. Current value: feature_fraction=0.9\n",
      "[LightGBM] [Warning] bagging_fraction is set=0.8, subsample=1.0 will be ignored. Current value: bagging_fraction=0.8\n",
      "[LightGBM] [Warning] bagging_freq is set=5, subsample_freq=0 will be ignored. Current value: bagging_freq=5\n",
      "LightGBM的准确率为: 0.5294117647058824\n"
     ]
    }
   ],
   "source": [
    "gbm1=lgb.LGBMClassifier(num_leaves= 40,learning_rate=0.078,feature_fraction=0.9,bagging_fraction= 0.8,bagging_freq=5,random_state=2018)  #lgb\n",
    "gbm1.fit(x_train,y_train)\n",
    "y_gbm1_pred=gbm1.predict(x_test)\n",
    "gbm1_score=accuracy_score(y_test,y_gbm1_pred)  #准确率\n",
    "print('LightGBM的准确率为:',gbm1_score)\n"
   ]
  },
  {
   "cell_type": "code",
   "execution_count": 10,
   "id": "1bd037f2",
   "metadata": {},
   "outputs": [
    {
     "data": {
      "text/plain": [
       "[<matplotlib.lines.Line2D at 0x223088b0a20>]"
      ]
     },
     "execution_count": 10,
     "metadata": {},
     "output_type": "execute_result"
    },
    {
     "data": {
      "image/png": "[encoded data removed]",
      "text/plain": [
       "<Figure size 432x288 with 1 Axes>"
      ]
     },
     "metadata": {
      "needs_background": "light"
     },
     "output_type": "display_data"
    }
   ],
   "source": [
    "#模型评估\n",
    "from sklearn.metrics import confusion_matrix\n",
    "\n",
    "recall_gbm1 = []\n",
    "FPR_gbm1 = []\n",
    "y_true = y_test\n",
    "prob_gbm1 = gbm1.predict_proba(x_test)\n",
    "probrange_gbm1 = np.linspace(prob_gbm1[:, 1].min(), prob_gbm1[:, 1].max(), 50)\n",
    "for i in probrange_gbm1:\n",
    "    y_pre = []\n",
    "    for k in range(prob_gbm1.shape[0]):\n",
    "        if prob_gbm1[k, 1] > i:\n",
    "            y_pre.append(1)\n",
    "        else:\n",
    "            y_pre.append(0)\n",
    "    C = confusion_matrix(y_true, y_pre)\n",
    "    recall_gbm1.append(C[0, 0] / C[0, :].sum())\n",
    "    FPR_gbm1.append(C[1, 0] / C[1, :].sum())\n",
    "\n",
    "area_gbm1 = \"AUC area of LightGBM is \" + str(round(auc(FPR_gbm1, recall_gbm1), 3))\n",
    "plt.plot(FPR_gbm1, recall_gbm1, c='darkblue',label=area_gbm1)"
   ]
  },
  {
   "cell_type": "code",
   "execution_count": 12,
   "id": "48d9c1c7",
   "metadata": {},
   "outputs": [
    {
     "name": "stdout",
     "output_type": "stream",
     "text": [
      "\n",
      "LightGBM\n",
      "准确率为0.5294117647058824\n",
      "AUC面积为0.672222\n",
      "宏F1为0.48780891667011633\n",
      "微F1为0.5294117647058824\n",
      "宏查准率为0.5193277310924369\n",
      "微查准率为0.5294117647058824\n",
      "宏查全率为0.4879310344827586\n",
      "微查全率为0.5294117647058824\n"
     ]
    }
   ],
   "source": [
    "#模型指标\n",
    "from sklearn.metrics import roc_curve\n",
    "from sklearn.metrics import f1_score\n",
    "from sklearn.metrics import precision_score, recall_score\n",
    "\n",
    "print('\\nLightGBM')\n",
    "print(f'准确率为{gbm1.score(x_test, y_test)}')\n",
    "print(f'AUC面积为{round(auc(FPR_gbm1, recall_gbm1), 6)}')\n",
    "y_predict = gbm1.predict(x_test)\n",
    "print(f'宏F1为{f1_score(y_test, y_predict,average=\"macro\")}')\n",
    "print(f'微F1为{f1_score(y_test, y_predict,average=\"micro\")}')\n",
    "print(f'宏查准率为{precision_score(y_test, y_predict,average=\"macro\")}')\n",
    "print(f'微查准率为{precision_score(y_test, y_predict,average=\"micro\")}')\n",
    "print(f'宏查全率为{recall_score(y_test, y_predict,average=\"macro\")}')\n",
    "print(f'微查全率为{recall_score(y_test, y_predict,average=\"micro\")}')\n"
   ]
  },
  {
   "cell_type": "code",
   "execution_count": null,
   "id": "943d42e4",
   "metadata": {},
   "outputs": [],
   "source": []
  }
 ],
 "metadata": {
  "kernelspec": {
   "display_name": "Python 3 (ipykernel)",
   "language": "python",
   "name": "python3"
  },
  "language_info": {
   "codemirror_mode": {
    "name": "ipython",
    "version": 3
   },
   "file_extension": ".py",
   "mimetype": "text/x-python",
   "name": "python",
   "nbconvert_exporter": "python",
   "pygments_lexer": "ipython3",
   "version": "3.7.3"
  }
 },
 "nbformat": 4,
 "nbformat_minor": 5
}
